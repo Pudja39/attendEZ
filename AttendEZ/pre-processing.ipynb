Pre-Processing Data pada AttendEZ
==================================

Deskripsi:
----------
Proses pre-processing dalam AttendEZ dilakukan untuk menyiapkan data citra wajah agar dapat dikenali dengan baik oleh algoritma pengenalan wajah (LBPH Face Recognizer). Proses ini dilakukan baik saat pendaftaran wajah maupun saat pelatihan dan absensi.

Tahapan Pre-Processing:
-----------------------
1. **Capture Gambar dari Webcam**
   - Gambar diambil secara langsung dari webcam dengan menggunakan OpenCV.

2. **Konversi ke Grayscale**
   - Setiap frame diubah dari format warna BGR menjadi grayscale:
     `gray = cv2.cvtColor(frame, cv2.COLOR_BGR2GRAY)`
   - Ini dilakukan untuk menyederhanakan data dan mempercepat proses komputasi, karena pengenalan wajah tidak memerlukan warna.

3. **Deteksi Wajah**
   - Menggunakan Haar Cascade Classifier untuk mendeteksi posisi wajah dalam gambar:
     `faces = face_cascade.detectMultiScale(gray, scaleFactor=1.3, minNeighbors=5)`
   - Deteksi dilakukan baik saat pendaftaran wajah, pelatihan, maupun absensi.

4. **Ekstraksi ROI (Region of Interest)**
   - Bagian wajah yang terdeteksi dipotong dari citra grayscale berdasarkan koordinat hasil deteksi:
     `face_img = gray[y:y+h, x:x+w]`
   - ROI inilah yang digunakan untuk disimpan sebagai dataset atau untuk diprediksi saat absensi.

5. **Resize (Opsional)**
   - Dalam skrip saat ini, tidak dilakukan resize wajah. Namun dapat ditambahkan jika diperlukan agar semua wajah memiliki ukuran seragam.

6. **Penyimpanan Wajah (Saat Pendaftaran)**
   - Wajah yang telah diproses disimpan dalam folder `dataset/` dengan format:
     `User.<NIM>.<nomor>.jpg`

7. **Ekstraksi Ciri dan Pelatihan**
   - Wajah yang dipotong digunakan untuk ekstraksi ciri dan pelatihan model LBPH:
     `recognizer.train(face_samples, np.array(ids))`

8. **Prediksi dan Pengenalan (Saat Absensi)**
   - ROI dari wajah yang terdeteksi dibandingkan dengan model:
     `id_predicted, confidence = recognizer.predict(gray[y:y+h, x:x+w])`
   - Hasil prediksi digunakan untuk mencocokkan NIM dan mencatat absensi.

Catatan:
--------
- Pre-processing sangat berpengaruh terhadap akurasi deteksi wajah.
- Pencahayaan yang cukup dan wajah menghadap kamera secara langsung sangat membantu meningkatkan keberhasilan deteksi.
- Grayscale dan crop wajah adalah tahap kunci untuk memastikan input ke model konsisten.

